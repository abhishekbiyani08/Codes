{
 "cells": [
  {
   "cell_type": "code",
   "execution_count": 1,
   "id": "7bd53cad",
   "metadata": {
    "scrolled": true
   },
   "outputs": [
    {
     "name": "stdout",
     "output_type": "stream",
     "text": [
      "hello world\n"
     ]
    }
   ],
   "source": [
    "print(\"hello world\")"
   ]
  },
  {
   "cell_type": "code",
   "execution_count": 67,
   "id": "2db9a9d0",
   "metadata": {},
   "outputs": [
    {
     "name": "stdout",
     "output_type": "stream",
     "text": [
      "list1[0] is  Abhishek\n",
      "list2[1] is  2\n",
      "list3[0] is  a\n"
     ]
    }
   ],
   "source": [
    "list1 = ['Abhishek', 'Rajgopal', 'Biyani']\n",
    "list2 = [1,2,3,4,5]\n",
    "list3 = [\"a\", \"b\", \"h\", \"i\"]\n",
    "\n",
    "print(\"list1[0] is \", list1[0])\n",
    "print(\"list2[1] is \", list2[1])\n",
    "print(\"list3[0] is \", list3[0])"
   ]
  },
  {
   "cell_type": "code",
   "execution_count": null,
   "id": "712bdd5a",
   "metadata": {},
   "outputs": [],
   "source": []
  },
  {
   "cell_type": "code",
   "execution_count": 68,
   "id": "113278f6",
   "metadata": {
    "scrolled": true
   },
   "outputs": [
    {
     "name": "stdout",
     "output_type": "stream",
     "text": [
      "list2[0] is  1\n"
     ]
    }
   ],
   "source": [
    "print(\"list2[0] is \", list2[0])"
   ]
  },
  {
   "cell_type": "code",
   "execution_count": 69,
   "id": "91382b5f",
   "metadata": {},
   "outputs": [
    {
     "name": "stdout",
     "output_type": "stream",
     "text": [
      "1\n"
     ]
    }
   ],
   "source": [
    "print(list2[0])"
   ]
  },
  {
   "cell_type": "code",
   "execution_count": 70,
   "id": "674bbe86",
   "metadata": {},
   "outputs": [
    {
     "name": "stdout",
     "output_type": "stream",
     "text": [
      "Length of list 1  3\n"
     ]
    }
   ],
   "source": [
    "print(\"Length of list 1 \", len(['Abhishek', 'Rajgopal', 'Biyani']))"
   ]
  },
  {
   "cell_type": "code",
   "execution_count": 71,
   "id": "04aff380",
   "metadata": {},
   "outputs": [
    {
     "name": "stdout",
     "output_type": "stream",
     "text": [
      "Length of list 2  5\n"
     ]
    }
   ],
   "source": [
    "print(\"Length of list 2 \", len(list2))"
   ]
  },
  {
   "cell_type": "code",
   "execution_count": 72,
   "id": "1073af7c",
   "metadata": {},
   "outputs": [
    {
     "name": "stdout",
     "output_type": "stream",
     "text": [
      "Length of list 2  5\n"
     ]
    }
   ],
   "source": [
    "print(\"Length of list 2 \", len(list2))"
   ]
  },
  {
   "cell_type": "code",
   "execution_count": 73,
   "id": "a4ea8da1",
   "metadata": {},
   "outputs": [
    {
     "name": "stdout",
     "output_type": "stream",
     "text": [
      "['Abhishek', 'Rajgopal', 'Biyani'] "
     ]
    }
   ],
   "source": [
    "for x in [list1] : \n",
    " print (x,end = ' ')"
   ]
  },
  {
   "cell_type": "code",
   "execution_count": 46,
   "id": "20710879",
   "metadata": {},
   "outputs": [
    {
     "name": "stdout",
     "output_type": "stream",
     "text": [
      "3\n"
     ]
    }
   ],
   "source": [
    "print(max(list2))"
   ]
  },
  {
   "cell_type": "code",
   "execution_count": 47,
   "id": "2404b555",
   "metadata": {},
   "outputs": [
    {
     "name": "stdout",
     "output_type": "stream",
     "text": [
      "Rajgopal\n"
     ]
    }
   ],
   "source": [
    "print(max(list1))"
   ]
  },
  {
   "cell_type": "code",
   "execution_count": 48,
   "id": "38ab85c9",
   "metadata": {},
   "outputs": [],
   "source": [
    "tuple1 = ('Biyani', 'Abhishek', 2003, 808)\n",
    "tuple2 = (1, 2, 3, 4, 5)\n",
    "tuple3 = \"a\", \"b\", \"c\", \"d\", \"e\""
   ]
  },
  {
   "cell_type": "code",
   "execution_count": 49,
   "id": "326ea98c",
   "metadata": {},
   "outputs": [
    {
     "name": "stdout",
     "output_type": "stream",
     "text": [
      "tuple1[1]:  Abhishek\n",
      "tuple2[1:]:  (1, 2, 3, 4, 5)\n"
     ]
    }
   ],
   "source": [
    "print (\"tuple1[1]: \", tuple1[1])\n",
    "print (\"tuple2[1:]: \", tuple2[0:])"
   ]
  },
  {
   "cell_type": "code",
   "execution_count": 37,
   "id": "1b73df21",
   "metadata": {},
   "outputs": [
    {
     "data": {
      "text/plain": [
       "4"
      ]
     },
     "execution_count": 37,
     "metadata": {},
     "output_type": "execute_result"
    }
   ],
   "source": [
    "len(tuple1)"
   ]
  },
  {
   "cell_type": "code",
   "execution_count": 38,
   "id": "0c345b8b",
   "metadata": {},
   "outputs": [
    {
     "name": "stdout",
     "output_type": "stream",
     "text": [
      "Abhishek Biyani\n",
      "His age is  20\n"
     ]
    }
   ],
   "source": [
    "dict ={'Name':'Abhishek', 'Age':20, 'Last Name': 'Biyani'}\n",
    "print (dict['Name'], dict['Last Name'])\n",
    "print(\"His age is \", dict['Age'])"
   ]
  },
  {
   "cell_type": "code",
   "execution_count": 74,
   "id": "c643c96f",
   "metadata": {},
   "outputs": [
    {
     "name": "stdout",
     "output_type": "stream",
     "text": [
      "Abhishek\n"
     ]
    }
   ],
   "source": [
    "print(\"Abhishek\")"
   ]
  },
  {
   "cell_type": "code",
   "execution_count": 77,
   "id": "81e7cb34",
   "metadata": {},
   "outputs": [],
   "source": [
    "x = 5\n",
    "y = '21001'\n",
    "z = \"A\""
   ]
  },
  {
   "cell_type": "code",
   "execution_count": 78,
   "id": "37f12cd3",
   "metadata": {},
   "outputs": [
    {
     "name": "stdout",
     "output_type": "stream",
     "text": [
      "5 21001 A\n"
     ]
    }
   ],
   "source": [
    "print(x, y, z)"
   ]
  },
  {
   "cell_type": "code",
   "execution_count": 79,
   "id": "fb3a1e48",
   "metadata": {},
   "outputs": [
    {
     "name": "stdout",
     "output_type": "stream",
     "text": [
      "9\n"
     ]
    }
   ],
   "source": [
    "x = 5\n",
    "y = 4\n",
    "print(x+y)"
   ]
  },
  {
   "cell_type": "code",
   "execution_count": 80,
   "id": "f6a69678",
   "metadata": {},
   "outputs": [
    {
     "name": "stdout",
     "output_type": "stream",
     "text": [
      "10101010100\n"
     ]
    }
   ],
   "source": [
    "x = 1010101010\n",
    "y = 9090909090\n",
    "\n",
    "print(x+y)"
   ]
  },
  {
   "cell_type": "code",
   "execution_count": 81,
   "id": "6736e7ea",
   "metadata": {},
   "outputs": [
    {
     "name": "stdout",
     "output_type": "stream",
     "text": [
      "4\n",
      "4\n"
     ]
    }
   ],
   "source": [
    "x = input()\n",
    "print(x)"
   ]
  },
  {
   "cell_type": "code",
   "execution_count": 89,
   "id": "d6dd3340",
   "metadata": {},
   "outputs": [
    {
     "name": "stdout",
     "output_type": "stream",
     "text": [
      "3\n",
      "4\n",
      "----------\n",
      "7\n"
     ]
    }
   ],
   "source": [
    "x = int(input())\n",
    "y = int(input())\n",
    "print(\"----------\")\n",
    "z = x+y\n",
    "print(z)"
   ]
  },
  {
   "cell_type": "code",
   "execution_count": 88,
   "id": "a3090919",
   "metadata": {},
   "outputs": [
    {
     "name": "stdout",
     "output_type": "stream",
     "text": [
      "3\n",
      "4\n",
      "----------\n",
      "34\n"
     ]
    }
   ],
   "source": [
    "x = input()\n",
    "y = input()\n",
    "print(\"----------\")\n",
    "z = x+y\n",
    "print(z)"
   ]
  },
  {
   "cell_type": "code",
   "execution_count": null,
   "id": "6ba9ab79",
   "metadata": {},
   "outputs": [],
   "source": []
  }
 ],
 "metadata": {
  "kernelspec": {
   "display_name": "Python 3 (ipykernel)",
   "language": "python",
   "name": "python3"
  },
  "language_info": {
   "codemirror_mode": {
    "name": "ipython",
    "version": 3
   },
   "file_extension": ".py",
   "mimetype": "text/x-python",
   "name": "python",
   "nbconvert_exporter": "python",
   "pygments_lexer": "ipython3",
   "version": "3.11.3"
  }
 },
 "nbformat": 4,
 "nbformat_minor": 5
}
