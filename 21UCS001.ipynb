{
 "cells": [
  {
   "cell_type": "code",
   "execution_count": 40,
   "id": "e9e09bf0",
   "metadata": {},
   "outputs": [
    {
     "name": "stdout",
     "output_type": "stream",
     "text": [
      "        Name  Age\n",
      "0     smital   20\n",
      "1   abhishek   20\n",
      "2  aishwarya   19\n",
      "\n",
      "\n",
      "        Name  PRN\n",
      "0     smital   22\n",
      "1   abhishek    1\n",
      "2  aishwarya   16\n"
     ]
    }
   ],
   "source": [
    "import pandas as pd;\n",
    "data1 = [['smital', 20],['abhishek',20],['aishwarya',19]]\n",
    "df = pd.DataFrame(data1,columns=['Name','Age'])\n",
    "data2 = [['smital', 22],['abhishek', 1],['aishwarya', 16]]\n",
    "ef = pd.DataFrame(data2,columns=['Name','PRN'])\n",
    "print(df)\n",
    "print('\\n')\n",
    "print(ef)"
   ]
  },
  {
   "cell_type": "code",
   "execution_count": 43,
   "id": "009ab0f1",
   "metadata": {},
   "outputs": [
    {
     "name": "stdout",
     "output_type": "stream",
     "text": [
      "0      smital\n",
      "1    abhishek\n",
      "2     krutika\n",
      "3        aish\n",
      "dtype: object\n",
      "\n",
      "\n",
      "0    prathamesh\n",
      "1         vipul\n",
      "2        aayush\n",
      "3            PK\n",
      "dtype: object\n"
     ]
    }
   ],
   "source": [
    "import pandas as pd\n",
    "import numpy as np\n",
    "data1 = np.array(['smital','abhishek','krutika','aish'])\n",
    "s = pd.Series(data1)\n",
    "print(s)\n",
    "data2 = np.array(['prathamesh','vipul','aayush','PK'])\n",
    "s = pd.Series(data2)\n",
    "print('\\n')\n",
    "print(s)"
   ]
  },
  {
   "cell_type": "code",
   "execution_count": 44,
   "id": "7dc262f7",
   "metadata": {},
   "outputs": [
    {
     "name": "stdout",
     "output_type": "stream",
     "text": [
      "1      smital\n",
      "2    abhishek\n",
      "3     krutika\n",
      "4        aish\n",
      "dtype: object\n",
      "\n",
      "\n",
      "11      smital\n",
      "12    abhishek\n",
      "13     krutika\n",
      "14        aish\n",
      "dtype: object\n"
     ]
    }
   ],
   "source": [
    "import pandas as pd\n",
    "import numpy as np\n",
    "\n",
    "data1 = np.array(['smital','abhishek','krutika','aish'])\n",
    "s = pd.Series(data1,index=[1,2,3,4])\n",
    "print(s)\n",
    "print('\\n')\n",
    "data2 = np.array(['smital','abhishek','krutika','aish'])\n",
    "t = pd.Series(data2,index=[11,12,13,14])\n",
    "print(t)"
   ]
  },
  {
   "cell_type": "code",
   "execution_count": 51,
   "id": "846b08a0",
   "metadata": {},
   "outputs": [
    {
     "name": "stdout",
     "output_type": "stream",
     "text": [
      "10.0 11.0 12.0\n"
     ]
    }
   ],
   "source": [
    "import pandas as pd\n",
    "import numpy as np\n",
    "data = {'a' : 10., 'b' : 11., 'c' : 12.}\n",
    "s = pd.Series(data)\n",
    "print(s[0],s[1], s[2])"
   ]
  },
  {
   "cell_type": "code",
   "execution_count": 11,
   "id": "1010067f",
   "metadata": {},
   "outputs": [
    {
     "name": "stdout",
     "output_type": "stream",
     "text": [
      "b    11.0\n",
      "c    12.0\n",
      "d     NaN\n",
      "a    10.0\n",
      "dtype: float64\n"
     ]
    }
   ],
   "source": [
    "import pandas as pd\n",
    "import numpy as np\n",
    "data = {'a' : 10., 'b' : 11., 'c' : 12.}\n",
    "s = pd.Series(data,index=['b','c','d','a'])\n",
    "print(s)"
   ]
  },
  {
   "cell_type": "code",
   "execution_count": 14,
   "id": "fc0f742b",
   "metadata": {},
   "outputs": [
    {
     "name": "stdout",
     "output_type": "stream",
     "text": [
      "4\n"
     ]
    }
   ],
   "source": [
    "import pandas as pd\n",
    "s = pd.Series([1,2,3,4,5],index = ['a','b','c','d','e'])\n",
    "print(s[3])"
   ]
  },
  {
   "cell_type": "code",
   "execution_count": 15,
   "id": "466bb069",
   "metadata": {},
   "outputs": [
    {
     "name": "stdout",
     "output_type": "stream",
     "text": [
      "a    1\n",
      "b    2\n",
      "c    3\n",
      "dtype: int64\n"
     ]
    }
   ],
   "source": [
    "import pandas as pd\n",
    "s = pd.Series([1,2,3,4,5],index = ['a','b','c','d','e'])\n",
    "print(s[:3])"
   ]
  },
  {
   "cell_type": "code",
   "execution_count": 38,
   "id": "d0f21f89",
   "metadata": {},
   "outputs": [
    {
     "name": "stdout",
     "output_type": "stream",
     "text": [
      "a    1\n",
      "b    2\n",
      "c    3\n",
      "d    4\n",
      "e    5\n",
      "dtype: int64\n"
     ]
    }
   ],
   "source": [
    "import pandas as pd\n",
    "s = pd.Series([1,2,3,4,5],index = ['a','b','c','d','e'])\n",
    "print(s[-5:])"
   ]
  },
  {
   "cell_type": "code",
   "execution_count": 36,
   "id": "a8d765d8",
   "metadata": {},
   "outputs": [
    {
     "name": "stdout",
     "output_type": "stream",
     "text": [
      "1\n"
     ]
    }
   ],
   "source": [
    "import pandas as pd\n",
    "s = pd.Series([1,2,3,4,5],index = ['a','b','c','d','e'])\n",
    "print(s['a'])"
   ]
  },
  {
   "cell_type": "code",
   "execution_count": 35,
   "id": "d0b2fd2f",
   "metadata": {},
   "outputs": [
    {
     "name": "stdout",
     "output_type": "stream",
     "text": [
      "a    1\n",
      "c    3\n",
      "d    4\n",
      "dtype: int64\n"
     ]
    }
   ],
   "source": [
    "import pandas as pd\n",
    "s = pd.Series([1,2,3,4,5],index = ['a','b','c','d','e'])\n",
    "print(s[['a','c','d']])"
   ]
  },
  {
   "cell_type": "code",
   "execution_count": 31,
   "id": "94344d6c",
   "metadata": {},
   "outputs": [
    {
     "name": "stdout",
     "output_type": "stream",
     "text": [
      "30\n"
     ]
    }
   ],
   "source": [
    "import pandas as pd\n",
    "s = pd.Series([10,20,30,40,50],index = ['a','b','c','d','e'])\n",
    "print(s['c'])"
   ]
  },
  {
   "cell_type": "code",
   "execution_count": null,
   "id": "af688269",
   "metadata": {},
   "outputs": [],
   "source": []
  }
 ],
 "metadata": {
  "kernelspec": {
   "display_name": "Python 3 (ipykernel)",
   "language": "python",
   "name": "python3"
  },
  "language_info": {
   "codemirror_mode": {
    "name": "ipython",
    "version": 3
   },
   "file_extension": ".py",
   "mimetype": "text/x-python",
   "name": "python",
   "nbconvert_exporter": "python",
   "pygments_lexer": "ipython3",
   "version": "3.11.3"
  }
 },
 "nbformat": 4,
 "nbformat_minor": 5
}
